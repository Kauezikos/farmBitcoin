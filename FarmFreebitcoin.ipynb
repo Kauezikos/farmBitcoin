{
 "cells": [
  {
   "cell_type": "code",
   "execution_count": 12,
   "id": "4fc57949",
   "metadata": {
    "scrolled": true
   },
   "outputs": [],
   "source": [
    "import time\n",
    "import pyautogui\n",
    "import pyperclip"
   ]
  },
  {
   "cell_type": "code",
   "execution_count": 14,
   "id": "6b39f6e1",
   "metadata": {},
   "outputs": [
    {
     "ename": "KeyboardInterrupt",
     "evalue": "",
     "output_type": "error",
     "traceback": [
      "\u001b[1;31m---------------------------------------------------------------------------\u001b[0m",
      "\u001b[1;31mKeyboardInterrupt\u001b[0m                         Traceback (most recent call last)",
      "Cell \u001b[1;32mIn[14], line 36\u001b[0m\n\u001b[0;32m     34\u001b[0m pyautogui\u001b[38;5;241m.\u001b[39mhotkey(\u001b[38;5;124m\"\u001b[39m\u001b[38;5;124mctrl\u001b[39m\u001b[38;5;124m\"\u001b[39m,\u001b[38;5;124m\"\u001b[39m\u001b[38;5;124mtab\u001b[39m\u001b[38;5;124m\"\u001b[39m) \u001b[38;5;66;03m#vai para o loot\u001b[39;00m\n\u001b[0;32m     35\u001b[0m time\u001b[38;5;241m.\u001b[39msleep(\u001b[38;5;241m2\u001b[39m)\n\u001b[1;32m---> 36\u001b[0m \u001b[43mtime\u001b[49m\u001b[38;5;241;43m.\u001b[39;49m\u001b[43msleep\u001b[49m\u001b[43m(\u001b[49m\u001b[38;5;241;43m580\u001b[39;49m\u001b[43m)\u001b[49m\n\u001b[0;32m     37\u001b[0m pyautogui\u001b[38;5;241m.\u001b[39mhotkey(\u001b[38;5;124m\"\u001b[39m\u001b[38;5;124mctrl\u001b[39m\u001b[38;5;124m\"\u001b[39m,\u001b[38;5;124m\"\u001b[39m\u001b[38;5;124mshift\u001b[39m\u001b[38;5;124m\"\u001b[39m,\u001b[38;5;124m\"\u001b[39m\u001b[38;5;124mtab\u001b[39m\u001b[38;5;124m\"\u001b[39m) \u001b[38;5;66;03m#volta para o freebitcoin\u001b[39;00m\n\u001b[0;32m     38\u001b[0m time\u001b[38;5;241m.\u001b[39msleep(\u001b[38;5;241m5\u001b[39m)\n",
      "\u001b[1;31mKeyboardInterrupt\u001b[0m: "
     ]
    }
   ],
   "source": [
    "while True :\n",
    "    \n",
    "    time.sleep(30)\n",
    "    pyautogui.click(608,9) # clica na guia\n",
    "    time.sleep(10)\n",
    "    pyautogui.hotkey(\"f5\") #atualiza a guia\n",
    "    time.sleep(10)\n",
    "    pyautogui.hotkey(\"f5\") #atualiza a guia\n",
    "    time.sleep(10)\n",
    "    pyautogui.hotkey(\"f5\") #atualiza a guia\n",
    "    time.sleep(10)\n",
    "    pyautogui.hotkey(\"ctrl\",\"f\") #abrir a busca\n",
    "    time.sleep(10)\n",
    "    pyautogui.write(\"roll!\") #buscar o campo\n",
    "    time.sleep(10)\n",
    "    pyautogui.click(675,568) # clicou para dar ROLL\n",
    "    time.sleep(10)\n",
    "    pyautogui.hotkey(\"f5\") #atualiza a guia\n",
    "    time.sleep(20)\n",
    "    pyautogui.hotkey(\"ctrl\",\"tab\") #vai para o loot\n",
    "    time.sleep(2)\n",
    "    time.sleep(580)\n",
    "    pyautogui.hotkey(\"ctrl\",\"shift\",\"tab\") #volta para o freebitcoin\n",
    "    time.sleep(5)\n",
    "    pyautogui.hotkey(\"f5\") #atualiza a guia\n",
    "    time.sleep(20)\n",
    "    pyautogui.hotkey(\"ctrl\",\"tab\") #vai para o loot\n",
    "    time.sleep(2)\n",
    "    time.sleep(580)\n",
    "    pyautogui.hotkey(\"ctrl\",\"shift\",\"tab\") #volta para o freebitcoin\n",
    "    time.sleep(5)\n",
    "    pyautogui.hotkey(\"f5\") #atualiza a guia\n",
    "    time.sleep(20)\n",
    "    pyautogui.hotkey(\"ctrl\",\"tab\") #vai para o loot\n",
    "    time.sleep(2)\n",
    "    time.sleep(580)\n",
    "    pyautogui.hotkey(\"ctrl\",\"shift\",\"tab\") #volta para o freebitcoin\n",
    "    time.sleep(5)\n",
    "    pyautogui.hotkey(\"f5\") #atualiza a guia\n",
    "    time.sleep(20)\n",
    "    pyautogui.hotkey(\"ctrl\",\"tab\") #vai para o loot\n",
    "    time.sleep(2)\n",
    "    time.sleep(580)\n",
    "    pyautogui.hotkey(\"ctrl\",\"shift\",\"tab\") #volta para o freebitcoin\n",
    "    time.sleep(5)\n",
    "    pyautogui.hotkey(\"f5\") #atualiza a guia\n",
    "    time.sleep(20)\n",
    "    pyautogui.hotkey(\"ctrl\",\"tab\") #vai para o loot\n",
    "    time.sleep(2)\n",
    "    time.sleep(580)\n",
    "    pyautogui.hotkey(\"ctrl\",\"shift\",\"tab\") #volta para o freebitcoin\n",
    "    time.sleep(5)\n",
    "    pyautogui.hotkey(\"f5\") #atualiza a guia\n",
    "    time.sleep(20)\n",
    "    pyautogui.hotkey(\"ctrl\",\"tab\") #vai para o loot\n",
    "    time.sleep(2)\n",
    "    time.sleep(580)\n",
    "    pyautogui.hotkey(\"ctrl\",\"shift\",\"tab\") #volta para o freebitcoin\n",
    "    time.sleep(5)\n",
    "    pyautogui.hotkey(\"f5\") #atualiza a guia\n",
    "    \n",
    "   \n"
   ]
  },
  {
   "cell_type": "code",
   "execution_count": 6,
   "id": "1e8ee62b",
   "metadata": {},
   "outputs": [
    {
     "name": "stdout",
     "output_type": "stream",
     "text": [
      "Point(x=675, y=568)\n"
     ]
    }
   ],
   "source": [
    "time.sleep(20)\n",
    "print(pyautogui.position()) #Saber onde o mouse fica\n"
   ]
  },
  {
   "cell_type": "code",
   "execution_count": 2,
   "id": "89d626f6",
   "metadata": {},
   "outputs": [
    {
     "ename": "KeyboardInterrupt",
     "evalue": "",
     "output_type": "error",
     "traceback": [
      "\u001b[1;31m---------------------------------------------------------------------------\u001b[0m",
      "\u001b[1;31mKeyboardInterrupt\u001b[0m                         Traceback (most recent call last)",
      "\u001b[1;32m~\\AppData\\Local\\Temp\\ipykernel_6028\\1575554150.py\u001b[0m in \u001b[0;36m<module>\u001b[1;34m\u001b[0m\n\u001b[0;32m      1\u001b[0m \u001b[1;32mwhile\u001b[0m \u001b[1;32mTrue\u001b[0m\u001b[1;33m:\u001b[0m\u001b[1;33m\u001b[0m\u001b[1;33m\u001b[0m\u001b[0m\n\u001b[1;32m----> 2\u001b[1;33m     \u001b[0mtime\u001b[0m\u001b[1;33m.\u001b[0m\u001b[0msleep\u001b[0m\u001b[1;33m(\u001b[0m\u001b[1;36m10\u001b[0m\u001b[1;33m)\u001b[0m\u001b[1;33m\u001b[0m\u001b[1;33m\u001b[0m\u001b[0m\n\u001b[0m\u001b[0;32m      3\u001b[0m     \u001b[0mpyautogui\u001b[0m\u001b[1;33m.\u001b[0m\u001b[0mclick\u001b[0m\u001b[1;33m(\u001b[0m\u001b[1;36m743\u001b[0m\u001b[1;33m,\u001b[0m\u001b[1;36m20\u001b[0m\u001b[1;33m)\u001b[0m \u001b[1;31m#testar mouse\u001b[0m\u001b[1;33m\u001b[0m\u001b[1;33m\u001b[0m\u001b[0m\n",
      "\u001b[1;31mKeyboardInterrupt\u001b[0m: "
     ]
    }
   ],
   "source": [
    "while True:\n",
    "    time.sleep(10)\n",
    "    pyautogui.click(743,20) #testar mouse"
   ]
  },
  {
   "cell_type": "code",
   "execution_count": null,
   "id": "50aa832c",
   "metadata": {},
   "outputs": [],
   "source": []
  }
 ],
 "metadata": {
  "kernelspec": {
   "display_name": "Python 3 (ipykernel)",
   "language": "python",
   "name": "python3"
  },
  "language_info": {
   "codemirror_mode": {
    "name": "ipython",
    "version": 3
   },
   "file_extension": ".py",
   "mimetype": "text/x-python",
   "name": "python",
   "nbconvert_exporter": "python",
   "pygments_lexer": "ipython3",
   "version": "3.10.9"
  }
 },
 "nbformat": 4,
 "nbformat_minor": 5
}
